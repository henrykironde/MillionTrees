{
 "cells": [
  {
   "cell_type": "code",
   "execution_count": null,
   "metadata": {},
   "outputs": [],
   "source": [
    "from matplotlib import pyplot as plt\n",
    "import sys\n",
    "import pandas as pd\n",
    "import geopandas\n",
    "from deepforest import main\n",
    "from deepforest.utilities import read_file \n",
    "from deepforest.visualize import plot_prediction_dataframe\n",
    "import rasterio\n",
    "import numpy as np\n",
    "import os\n",
    "\n",
    "dataset = \"/blue/ewhite/DeepForest/Ryoungseob_2023/train_datasets/images/train.csv\"\n",
    "root_dir = \"/blue/ewhite/DeepForest/Ryoungseob_2023/train_datasets/images/\"\n",
    "annotations = read_file(dataset)\n",
    "annotations = annotations[annotations.geometry.geom_type==\"Polygon\"]\n",
    "print(annotations.head())\n",
    "m = main.deepforest()\n",
    "m.use_release()\n",
    "\n",
    "images = annotations.image_path.unique()\n",
    "for image in images:\n",
    "    print(image)\n",
    "    path = os.path.join(root_dir,image)\n",
    "    img = rasterio.open(path).read()\n",
    "    img = np.rollaxis(img, 0,3)\n",
    "    boxes = m.predict_image(path=path, return_plot=False)\n",
    "    if boxes is None:\n",
    "        continue\n",
    "    #boxes = boxes[boxes.score>0.3]\n",
    "    image_annotations = annotations[annotations.image_path==image]\n",
    "    print(image_annotations.head())\n",
    "    plot_prediction_dataframe(df=boxes, ground_truth=image_annotations, savedir=\"../data_prep/plots\", root_dir=root_dir, thickness=2, color=[0,0,100])"
   ]
  },
  {
   "cell_type": "code",
   "execution_count": 7,
   "metadata": {},
   "outputs": [
    {
     "data": {
      "text/plain": [
       "(3827, 5)"
      ]
     },
     "execution_count": 7,
     "metadata": {},
     "output_type": "execute_result"
    }
   ],
   "source": [
    "annotations.shape"
   ]
  },
  {
   "cell_type": "code",
   "execution_count": null,
   "metadata": {},
   "outputs": [],
   "source": []
  }
 ],
 "metadata": {
  "kernelspec": {
   "display_name": "DeepForest",
   "language": "python",
   "name": "python3"
  },
  "language_info": {
   "codemirror_mode": {
    "name": "ipython",
    "version": 3
   },
   "file_extension": ".py",
   "mimetype": "text/x-python",
   "name": "python",
   "nbconvert_exporter": "python",
   "pygments_lexer": "ipython3",
   "version": "3.10.13"
  }
 },
 "nbformat": 4,
 "nbformat_minor": 2
}
