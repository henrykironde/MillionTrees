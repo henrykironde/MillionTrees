{
 "cells": [
  {
   "cell_type": "code",
   "execution_count": 1,
   "metadata": {},
   "outputs": [
    {
     "name": "stdout",
     "output_type": "stream",
     "text": [
      "Reading config file: /orange/ewhite/b.weinstein/miniconda3/envs/MillionTrees/lib/python3.10/site-packages/deepforest/data/deepforest_config.yml\n",
      "No validation file provided. Turning off validation loop\n"
     ]
    },
    {
     "name": "stderr",
     "output_type": "stream",
     "text": [
      "/orange/ewhite/b.weinstein/miniconda3/envs/MillionTrees/lib/python3.10/site-packages/lightning_fabric/plugins/environments/slurm.py:191: The `srun` command is available on your system but is not used. HINT: If your intention is to run Lightning on SLURM, prepend your python command with `srun` like so: srun python /orange/ewhite/b.weinstein/miniconda3/envs/MillionTr ...\n",
      "GPU available: True (cuda), used: True\n",
      "TPU available: False, using: 0 TPU cores\n",
      "IPU available: False, using: 0 IPUs\n",
      "HPU available: False, using: 0 HPUs\n",
      "/orange/ewhite/b.weinstein/miniconda3/envs/MillionTrees/lib/python3.10/site-packages/pytorch_lightning/trainer/connectors/logger_connector/logger_connector.py:67: Starting from v1.9.0, `tensorboardX` has been removed as a dependency of the `pytorch_lightning` package, due to potential conflicts with other packages in the ML ecosystem. For this reason, `logger=True` will use `CSVLogger` as the default logger, unless the `tensorboard` or `tensorboardX` packages are found. Please `pip install lightning[extra]` or one of them to enable TensorBoard support by default\n"
     ]
    },
    {
     "name": "stdout",
     "output_type": "stream",
     "text": [
      "Model from DeepForest release https://github.com/weecology/DeepForest/releases/tag/1.0.0 was already downloaded. Loading model from file.\n",
      "Loading pre-built model: https://github.com/weecology/DeepForest/releases/tag/1.0.0\n"
     ]
    },
    {
     "ename": "DecompressionBombError",
     "evalue": "Image size (500703060 pixels) exceeds limit of 178956970 pixels, could be decompression bomb DOS attack.",
     "output_type": "error",
     "traceback": [
      "\u001b[0;31m---------------------------------------------------------------------------\u001b[0m",
      "\u001b[0;31mDecompressionBombError\u001b[0m                    Traceback (most recent call last)",
      "Cell \u001b[0;32mIn[1], line 23\u001b[0m\n\u001b[1;32m     21\u001b[0m img \u001b[38;5;241m=\u001b[39m np\u001b[38;5;241m.\u001b[39mrollaxis(img, \u001b[38;5;241m0\u001b[39m,\u001b[38;5;241m3\u001b[39m)\n\u001b[1;32m     22\u001b[0m \u001b[38;5;66;03m#boxes = m.predict_tile(raster_path=path, patch_size=500,return_plot=False)\u001b[39;00m\n\u001b[0;32m---> 23\u001b[0m boxes \u001b[38;5;241m=\u001b[39m \u001b[43mm\u001b[49m\u001b[38;5;241;43m.\u001b[39;49m\u001b[43mpredict_image\u001b[49m\u001b[43m(\u001b[49m\u001b[43mpath\u001b[49m\u001b[38;5;241;43m=\u001b[39;49m\u001b[43mpath\u001b[49m\u001b[43m,\u001b[49m\u001b[43m \u001b[49m\u001b[43mreturn_plot\u001b[49m\u001b[38;5;241;43m=\u001b[39;49m\u001b[38;5;28;43;01mFalse\u001b[39;49;00m\u001b[43m)\u001b[49m\n\u001b[1;32m     24\u001b[0m boxes \u001b[38;5;241m=\u001b[39m boxes[boxes\u001b[38;5;241m.\u001b[39mscore\u001b[38;5;241m>\u001b[39m\u001b[38;5;241m0.3\u001b[39m]\n\u001b[1;32m     25\u001b[0m image_annotations \u001b[38;5;241m=\u001b[39m annotations[annotations\u001b[38;5;241m.\u001b[39mimage_path\u001b[38;5;241m==\u001b[39mimage]\n",
      "File \u001b[0;32m/orange/ewhite/b.weinstein/miniconda3/envs/MillionTrees/lib/python3.10/site-packages/deepforest/main.py:329\u001b[0m, in \u001b[0;36mdeepforest.predict_image\u001b[0;34m(self, image, path, return_plot, color, thickness)\u001b[0m\n\u001b[1;32m    326\u001b[0m \u001b[38;5;28mself\u001b[39m\u001b[38;5;241m.\u001b[39mmodel\u001b[38;5;241m.\u001b[39meval()\n\u001b[1;32m    328\u001b[0m \u001b[38;5;28;01mif\u001b[39;00m path:\n\u001b[0;32m--> 329\u001b[0m     image \u001b[38;5;241m=\u001b[39m np\u001b[38;5;241m.\u001b[39marray(\u001b[43mImage\u001b[49m\u001b[38;5;241;43m.\u001b[39;49m\u001b[43mopen\u001b[49m\u001b[43m(\u001b[49m\u001b[43mpath\u001b[49m\u001b[43m)\u001b[49m\u001b[38;5;241m.\u001b[39mconvert(\u001b[38;5;124m\"\u001b[39m\u001b[38;5;124mRGB\u001b[39m\u001b[38;5;124m\"\u001b[39m))\u001b[38;5;241m.\u001b[39mastype(\u001b[38;5;124m\"\u001b[39m\u001b[38;5;124mfloat32\u001b[39m\u001b[38;5;124m\"\u001b[39m)\n\u001b[1;32m    331\u001b[0m \u001b[38;5;66;03m# sanity checks on input images\u001b[39;00m\n\u001b[1;32m    332\u001b[0m \u001b[38;5;28;01mif\u001b[39;00m \u001b[38;5;129;01mnot\u001b[39;00m \u001b[38;5;28mtype\u001b[39m(image) \u001b[38;5;241m==\u001b[39m np\u001b[38;5;241m.\u001b[39mndarray:\n",
      "File \u001b[0;32m/orange/ewhite/b.weinstein/miniconda3/envs/MillionTrees/lib/python3.10/site-packages/PIL/Image.py:3289\u001b[0m, in \u001b[0;36mopen\u001b[0;34m(fp, mode, formats)\u001b[0m\n\u001b[1;32m   3287\u001b[0m     checked_formats \u001b[38;5;241m=\u001b[39m formats\u001b[38;5;241m.\u001b[39mcopy()\n\u001b[1;32m   3288\u001b[0m     \u001b[38;5;28;01mif\u001b[39;00m init():\n\u001b[0;32m-> 3289\u001b[0m         im \u001b[38;5;241m=\u001b[39m \u001b[43m_open_core\u001b[49m\u001b[43m(\u001b[49m\n\u001b[1;32m   3290\u001b[0m \u001b[43m            \u001b[49m\u001b[43mfp\u001b[49m\u001b[43m,\u001b[49m\n\u001b[1;32m   3291\u001b[0m \u001b[43m            \u001b[49m\u001b[43mfilename\u001b[49m\u001b[43m,\u001b[49m\n\u001b[1;32m   3292\u001b[0m \u001b[43m            \u001b[49m\u001b[43mprefix\u001b[49m\u001b[43m,\u001b[49m\n\u001b[1;32m   3293\u001b[0m \u001b[43m            \u001b[49m\u001b[38;5;28;43mtuple\u001b[39;49m\u001b[43m(\u001b[49m\u001b[38;5;28;43mformat\u001b[39;49m\u001b[43m \u001b[49m\u001b[38;5;28;43;01mfor\u001b[39;49;00m\u001b[43m \u001b[49m\u001b[38;5;28;43mformat\u001b[39;49m\u001b[43m \u001b[49m\u001b[38;5;129;43;01min\u001b[39;49;00m\u001b[43m \u001b[49m\u001b[43mformats\u001b[49m\u001b[43m \u001b[49m\u001b[38;5;28;43;01mif\u001b[39;49;00m\u001b[43m \u001b[49m\u001b[38;5;28;43mformat\u001b[39;49m\u001b[43m \u001b[49m\u001b[38;5;129;43;01mnot\u001b[39;49;00m\u001b[43m \u001b[49m\u001b[38;5;129;43;01min\u001b[39;49;00m\u001b[43m \u001b[49m\u001b[43mchecked_formats\u001b[49m\u001b[43m)\u001b[49m\u001b[43m,\u001b[49m\n\u001b[1;32m   3294\u001b[0m \u001b[43m        \u001b[49m\u001b[43m)\u001b[49m\n\u001b[1;32m   3296\u001b[0m \u001b[38;5;28;01mif\u001b[39;00m im:\n\u001b[1;32m   3297\u001b[0m     im\u001b[38;5;241m.\u001b[39m_exclusive_fp \u001b[38;5;241m=\u001b[39m exclusive_fp\n",
      "File \u001b[0;32m/orange/ewhite/b.weinstein/miniconda3/envs/MillionTrees/lib/python3.10/site-packages/PIL/Image.py:3271\u001b[0m, in \u001b[0;36mopen.<locals>._open_core\u001b[0;34m(fp, filename, prefix, formats)\u001b[0m\n\u001b[1;32m   3269\u001b[0m         fp\u001b[38;5;241m.\u001b[39mseek(\u001b[38;5;241m0\u001b[39m)\n\u001b[1;32m   3270\u001b[0m         im \u001b[38;5;241m=\u001b[39m factory(fp, filename)\n\u001b[0;32m-> 3271\u001b[0m         \u001b[43m_decompression_bomb_check\u001b[49m\u001b[43m(\u001b[49m\u001b[43mim\u001b[49m\u001b[38;5;241;43m.\u001b[39;49m\u001b[43msize\u001b[49m\u001b[43m)\u001b[49m\n\u001b[1;32m   3272\u001b[0m         \u001b[38;5;28;01mreturn\u001b[39;00m im\n\u001b[1;32m   3273\u001b[0m \u001b[38;5;28;01mexcept\u001b[39;00m (\u001b[38;5;167;01mSyntaxError\u001b[39;00m, \u001b[38;5;167;01mIndexError\u001b[39;00m, \u001b[38;5;167;01mTypeError\u001b[39;00m, struct\u001b[38;5;241m.\u001b[39merror):\n\u001b[1;32m   3274\u001b[0m     \u001b[38;5;66;03m# Leave disabled by default, spams the logs with image\u001b[39;00m\n\u001b[1;32m   3275\u001b[0m     \u001b[38;5;66;03m# opening failures that are entirely expected.\u001b[39;00m\n\u001b[1;32m   3276\u001b[0m     \u001b[38;5;66;03m# logger.debug(\"\", exc_info=True)\u001b[39;00m\n",
      "File \u001b[0;32m/orange/ewhite/b.weinstein/miniconda3/envs/MillionTrees/lib/python3.10/site-packages/PIL/Image.py:3179\u001b[0m, in \u001b[0;36m_decompression_bomb_check\u001b[0;34m(size)\u001b[0m\n\u001b[1;32m   3174\u001b[0m \u001b[38;5;28;01mif\u001b[39;00m pixels \u001b[38;5;241m>\u001b[39m \u001b[38;5;241m2\u001b[39m \u001b[38;5;241m*\u001b[39m MAX_IMAGE_PIXELS:\n\u001b[1;32m   3175\u001b[0m     msg \u001b[38;5;241m=\u001b[39m (\n\u001b[1;32m   3176\u001b[0m         \u001b[38;5;124mf\u001b[39m\u001b[38;5;124m\"\u001b[39m\u001b[38;5;124mImage size (\u001b[39m\u001b[38;5;132;01m{\u001b[39;00mpixels\u001b[38;5;132;01m}\u001b[39;00m\u001b[38;5;124m pixels) exceeds limit of \u001b[39m\u001b[38;5;132;01m{\u001b[39;00m\u001b[38;5;241m2\u001b[39m\u001b[38;5;250m \u001b[39m\u001b[38;5;241m*\u001b[39m\u001b[38;5;250m \u001b[39mMAX_IMAGE_PIXELS\u001b[38;5;132;01m}\u001b[39;00m\u001b[38;5;124m \u001b[39m\u001b[38;5;124m\"\u001b[39m\n\u001b[1;32m   3177\u001b[0m         \u001b[38;5;124m\"\u001b[39m\u001b[38;5;124mpixels, could be decompression bomb DOS attack.\u001b[39m\u001b[38;5;124m\"\u001b[39m\n\u001b[1;32m   3178\u001b[0m     )\n\u001b[0;32m-> 3179\u001b[0m     \u001b[38;5;28;01mraise\u001b[39;00m DecompressionBombError(msg)\n\u001b[1;32m   3181\u001b[0m \u001b[38;5;28;01mif\u001b[39;00m pixels \u001b[38;5;241m>\u001b[39m MAX_IMAGE_PIXELS:\n\u001b[1;32m   3182\u001b[0m     warnings\u001b[38;5;241m.\u001b[39mwarn(\n\u001b[1;32m   3183\u001b[0m         \u001b[38;5;124mf\u001b[39m\u001b[38;5;124m\"\u001b[39m\u001b[38;5;124mImage size (\u001b[39m\u001b[38;5;132;01m{\u001b[39;00mpixels\u001b[38;5;132;01m}\u001b[39;00m\u001b[38;5;124m pixels) exceeds limit of \u001b[39m\u001b[38;5;132;01m{\u001b[39;00mMAX_IMAGE_PIXELS\u001b[38;5;132;01m}\u001b[39;00m\u001b[38;5;124m pixels, \u001b[39m\u001b[38;5;124m\"\u001b[39m\n\u001b[1;32m   3184\u001b[0m         \u001b[38;5;124m\"\u001b[39m\u001b[38;5;124mcould be decompression bomb DOS attack.\u001b[39m\u001b[38;5;124m\"\u001b[39m,\n\u001b[1;32m   3185\u001b[0m         DecompressionBombWarning,\n\u001b[1;32m   3186\u001b[0m     )\n",
      "\u001b[0;31mDecompressionBombError\u001b[0m: Image size (500703060 pixels) exceeds limit of 178956970 pixels, could be decompression bomb DOS attack."
     ]
    }
   ],
   "source": [
    "from matplotlib import pyplot as plt\n",
    "import sys\n",
    "import pandas as pd\n",
    "import geopandas\n",
    "from deepforest import main\n",
    "from deepforest.utilities import read_file \n",
    "from deepforest.visualize import plot_prediction_dataframe\n",
    "import rasterio\n",
    "import numpy as np\n",
    "import os\n",
    "\n",
    "dataset = \"/blue/ewhite/DeepForest/Jansen_2023/pngs/annotations.csv\"\n",
    "root_dir = \"/blue/ewhite/DeepForest/MillionTrees/images/\"\n",
    "annotations = read_file(dataset)\n",
    "m = main.deepforest()\n",
    "m.use_release()\n",
    "images = annotations.image_path.unique()\n",
    "for image in images[:10]:\n",
    "    path = os.path.join(root_dir,image)\n",
    "    img = rasterio.open(path).read()\n",
    "    img = np.rollaxis(img, 0,3)\n",
    "    boxes = m.predict_image(path=path, return_plot=False)\n",
    "    boxes = boxes[boxes.score>0.3]\n",
    "    image_annotations = annotations[annotations.image_path==image]\n",
    "    plot_prediction_dataframe(boxes, ground_truth=image_annotations, savedir=\"plots\", root_dir=root_dir, thickness=2, color=[0,0,100])"
   ]
  },
  {
   "cell_type": "markdown",
   "metadata": {},
   "source": [
    "annotations"
   ]
  },
  {
   "cell_type": "code",
   "execution_count": 3,
   "metadata": {},
   "outputs": [
    {
     "data": {
      "text/plain": [
       "array(['/blue/ewhite/DeepForest/Jansen_2023/images/PlotS1_20210412_RGB.tif',\n",
       "       '/blue/ewhite/DeepForest/Jansen_2023/images/PlotS7_20210617_RGB.tif',\n",
       "       '/blue/ewhite/DeepForest/Jansen_2023/images/PlotS6_20210621_RGB.tif',\n",
       "       '/blue/ewhite/DeepForest/Jansen_2023/images/PlotS4_20210614_RGB.tif'],\n",
       "      dtype=object)"
      ]
     },
     "execution_count": 3,
     "metadata": {},
     "output_type": "execute_result"
    }
   ],
   "source": [
    "annotations.image_path.unique()"
   ]
  }
 ],
 "metadata": {
  "kernelspec": {
   "display_name": "DeepForest",
   "language": "python",
   "name": "python3"
  },
  "language_info": {
   "codemirror_mode": {
    "name": "ipython",
    "version": 3
   },
   "file_extension": ".py",
   "mimetype": "text/x-python",
   "name": "python",
   "nbconvert_exporter": "python",
   "pygments_lexer": "ipython3",
   "version": "3.10.13"
  }
 },
 "nbformat": 4,
 "nbformat_minor": 2
}
