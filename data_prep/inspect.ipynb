{
 "cells": [
  {
   "cell_type": "code",
   "execution_count": 3,
   "metadata": {},
   "outputs": [
    {
     "name": "stdout",
     "output_type": "stream",
     "text": [
      "   Unnamed: 0  treeID   xlas2013    ylas2013  zmax2013  zmax2017  zmax2018  \\\n",
      "0           0  317052  295515.45  4098686.52     18.44     16.71     17.31   \n",
      "1           1  317058  295540.38  4098684.05     18.29     18.44     18.83   \n",
      "2           2  317059  295531.22  4098684.12     19.63     19.25     19.63   \n",
      "3           3  317063  295522.43  4098679.99     16.00     16.75     17.18   \n",
      "4           4  317064  295525.88  4098682.16     16.14     16.47     16.03   \n",
      "\n",
      "   zmax2019  zmax2021  sampleid    ca2013    ca2017    ca2018    ca2019  \\\n",
      "0     16.87    17.497       686  50.56385  59.94765  61.18515  57.72135   \n",
      "1     18.84    19.962       686  66.43780  80.16885  96.50075  74.98060   \n",
      "2     19.79    20.354       686  84.32240  82.14070  63.16150  53.52925   \n",
      "3     16.96    17.598       686  28.15595  39.32420  44.74045  44.55820   \n",
      "4     16.16    17.421       686  24.20295  34.50130  46.32625  58.03655   \n",
      "\n",
      "      ca2021  live  certainty  \\\n",
      "0  57.720561     1        1.0   \n",
      "1  69.145435     1        1.0   \n",
      "2  68.915115     1        1.0   \n",
      "3  40.974150     1        1.0   \n",
      "4  53.797415     1        1.0   \n",
      "\n",
      "                                            geometry    image_path  split  \n",
      "0  POLYGON ((295511.250 4098685.280, 295511.310 4...  686_2017.tif  train  \n",
      "1  POLYGON ((295534.160 4098678.870, 295534.670 4...  686_2017.tif  train  \n",
      "2  POLYGON ((295527.070 4098683.380, 295526.020 4...  686_2017.tif  train  \n",
      "3  POLYGON ((295518.310 4098681.060, 295518.240 4...  686_2017.tif  train  \n",
      "4  POLYGON ((295523.320 4098679.620, 295523.120 4...  686_2017.tif  train  \n",
      "Reading config file: /orange/ewhite/b.weinstein/miniconda3/envs/MillionTrees/lib/python3.10/site-packages/deepforest/data/deepforest_config.yml\n"
     ]
    },
    {
     "name": "stderr",
     "output_type": "stream",
     "text": [
      "/orange/ewhite/b.weinstein/miniconda3/envs/MillionTrees/lib/python3.10/site-packages/lightning_fabric/plugins/environments/slurm.py:191: The `srun` command is available on your system but is not used. HINT: If your intention is to run Lightning on SLURM, prepend your python command with `srun` like so: srun python /orange/ewhite/b.weinstein/miniconda3/envs/MillionTr ...\n",
      "GPU available: True (cuda), used: True\n",
      "TPU available: False, using: 0 TPU cores\n",
      "IPU available: False, using: 0 IPUs\n",
      "HPU available: False, using: 0 HPUs\n"
     ]
    },
    {
     "name": "stdout",
     "output_type": "stream",
     "text": [
      "No validation file provided. Turning off validation loop\n",
      "Model from DeepForest release https://github.com/weecology/DeepForest/releases/tag/1.0.0 was already downloaded. Loading model from file.\n",
      "Loading pre-built model: https://github.com/weecology/DeepForest/releases/tag/1.0.0\n",
      "686_2017.tif\n",
      "   Unnamed: 0  treeID   xlas2013    ylas2013  zmax2013  zmax2017  zmax2018  \\\n",
      "0           0  317052  295515.45  4098686.52     18.44     16.71     17.31   \n",
      "1           1  317058  295540.38  4098684.05     18.29     18.44     18.83   \n",
      "2           2  317059  295531.22  4098684.12     19.63     19.25     19.63   \n",
      "3           3  317063  295522.43  4098679.99     16.00     16.75     17.18   \n",
      "4           4  317064  295525.88  4098682.16     16.14     16.47     16.03   \n",
      "\n",
      "   zmax2019  zmax2021  sampleid    ca2013    ca2017    ca2018    ca2019  \\\n",
      "0     16.87    17.497       686  50.56385  59.94765  61.18515  57.72135   \n",
      "1     18.84    19.962       686  66.43780  80.16885  96.50075  74.98060   \n",
      "2     19.79    20.354       686  84.32240  82.14070  63.16150  53.52925   \n",
      "3     16.96    17.598       686  28.15595  39.32420  44.74045  44.55820   \n",
      "4     16.16    17.421       686  24.20295  34.50130  46.32625  58.03655   \n",
      "\n",
      "      ca2021  live  certainty  \\\n",
      "0  57.720561     1        1.0   \n",
      "1  69.145435     1        1.0   \n",
      "2  68.915115     1        1.0   \n",
      "3  40.974150     1        1.0   \n",
      "4  53.797415     1        1.0   \n",
      "\n",
      "                                            geometry    image_path  split  \n",
      "0  POLYGON ((295511.250 4098685.280, 295511.310 4...  686_2017.tif  train  \n",
      "1  POLYGON ((295534.160 4098678.870, 295534.670 4...  686_2017.tif  train  \n",
      "2  POLYGON ((295527.070 4098683.380, 295526.020 4...  686_2017.tif  train  \n",
      "3  POLYGON ((295518.310 4098681.060, 295518.240 4...  686_2017.tif  train  \n",
      "4  POLYGON ((295523.320 4098679.620, 295523.120 4...  686_2017.tif  train  \n"
     ]
    },
    {
     "name": "stderr",
     "output_type": "stream",
     "text": [
      "/orange/ewhite/b.weinstein/miniconda3/envs/MillionTrees/lib/python3.10/site-packages/deepforest/visualize.py:126: UserWarning: No color was provided and the label column is not numeric. Using a single default color.\n",
      "  warnings.warn(\"No color was provided and the label column is not numeric. \"\n"
     ]
    },
    {
     "name": "stdout",
     "output_type": "stream",
     "text": [
      "686_2018.tif\n",
      "    Unnamed: 0  treeID   xlas2013    ylas2013  zmax2013  zmax2017  zmax2018  \\\n",
      "9            0  317052  295515.45  4098686.52     18.44     16.71     17.31   \n",
      "10           1  317058  295540.38  4098684.05     18.29     18.44     18.83   \n",
      "11           2  317059  295531.22  4098684.12     19.63     19.25     19.63   \n",
      "12           3  317063  295522.43  4098679.99     16.00     16.75     17.18   \n",
      "13           4  317064  295525.88  4098682.16     16.14     16.47     16.03   \n",
      "\n",
      "    zmax2019  zmax2021  sampleid    ca2013    ca2017    ca2018    ca2019  \\\n",
      "9      16.87    17.497       686  50.56385  59.94765  61.18515  57.72135   \n",
      "10     18.84    19.962       686  66.43780  80.16885  96.50075  74.98060   \n",
      "11     19.79    20.354       686  84.32240  82.14070  63.16150  53.52925   \n",
      "12     16.96    17.598       686  28.15595  39.32420  44.74045  44.55820   \n",
      "13     16.16    17.421       686  24.20295  34.50130  46.32625  58.03655   \n",
      "\n",
      "       ca2021  live  certainty  \\\n",
      "9   57.720561     1        1.0   \n",
      "10  69.145435     1        1.0   \n",
      "11  68.915115     1        1.0   \n",
      "12  40.974150     1        1.0   \n",
      "13  53.797415     1        1.0   \n",
      "\n",
      "                                             geometry    image_path  split  \n",
      "9   POLYGON ((295511.250 4098685.280, 295511.310 4...  686_2018.tif  train  \n",
      "10  POLYGON ((295534.160 4098678.870, 295534.670 4...  686_2018.tif  train  \n",
      "11  POLYGON ((295527.070 4098683.380, 295526.020 4...  686_2018.tif  train  \n",
      "12  POLYGON ((295518.310 4098681.060, 295518.240 4...  686_2018.tif  train  \n",
      "13  POLYGON ((295523.320 4098679.620, 295523.120 4...  686_2018.tif  train  \n",
      "686_2019.tif\n"
     ]
    },
    {
     "name": "stderr",
     "output_type": "stream",
     "text": [
      "/orange/ewhite/b.weinstein/miniconda3/envs/MillionTrees/lib/python3.10/site-packages/deepforest/visualize.py:126: UserWarning: No color was provided and the label column is not numeric. Using a single default color.\n",
      "  warnings.warn(\"No color was provided and the label column is not numeric. \"\n"
     ]
    },
    {
     "name": "stdout",
     "output_type": "stream",
     "text": [
      "    Unnamed: 0  treeID   xlas2013    ylas2013  zmax2013  zmax2017  zmax2018  \\\n",
      "18           0  317052  295515.45  4098686.52     18.44     16.71     17.31   \n",
      "19           1  317058  295540.38  4098684.05     18.29     18.44     18.83   \n",
      "20           2  317059  295531.22  4098684.12     19.63     19.25     19.63   \n",
      "21           3  317063  295522.43  4098679.99     16.00     16.75     17.18   \n",
      "22           4  317064  295525.88  4098682.16     16.14     16.47     16.03   \n",
      "\n",
      "    zmax2019  zmax2021  sampleid    ca2013    ca2017    ca2018    ca2019  \\\n",
      "18     16.87    17.497       686  50.56385  59.94765  61.18515  57.72135   \n",
      "19     18.84    19.962       686  66.43780  80.16885  96.50075  74.98060   \n",
      "20     19.79    20.354       686  84.32240  82.14070  63.16150  53.52925   \n",
      "21     16.96    17.598       686  28.15595  39.32420  44.74045  44.55820   \n",
      "22     16.16    17.421       686  24.20295  34.50130  46.32625  58.03655   \n",
      "\n",
      "       ca2021  live  certainty  \\\n",
      "18  57.720561     1        1.0   \n",
      "19  69.145435     1        1.0   \n",
      "20  68.915115     1        1.0   \n",
      "21  40.974150     1        1.0   \n",
      "22  53.797415     1        1.0   \n",
      "\n",
      "                                             geometry    image_path  split  \n",
      "18  POLYGON ((295511.250 4098685.280, 295511.310 4...  686_2019.tif  train  \n",
      "19  POLYGON ((295534.160 4098678.870, 295534.670 4...  686_2019.tif  train  \n",
      "20  POLYGON ((295527.070 4098683.380, 295526.020 4...  686_2019.tif  train  \n",
      "21  POLYGON ((295518.310 4098681.060, 295518.240 4...  686_2019.tif  train  \n",
      "22  POLYGON ((295523.320 4098679.620, 295523.120 4...  686_2019.tif  train  \n",
      "686_2021.tif\n"
     ]
    },
    {
     "name": "stderr",
     "output_type": "stream",
     "text": [
      "/orange/ewhite/b.weinstein/miniconda3/envs/MillionTrees/lib/python3.10/site-packages/deepforest/visualize.py:126: UserWarning: No color was provided and the label column is not numeric. Using a single default color.\n",
      "  warnings.warn(\"No color was provided and the label column is not numeric. \"\n"
     ]
    },
    {
     "name": "stdout",
     "output_type": "stream",
     "text": [
      "    Unnamed: 0  treeID   xlas2013    ylas2013  zmax2013  zmax2017  zmax2018  \\\n",
      "27           0  317052  295515.45  4098686.52     18.44     16.71     17.31   \n",
      "28           1  317058  295540.38  4098684.05     18.29     18.44     18.83   \n",
      "29           2  317059  295531.22  4098684.12     19.63     19.25     19.63   \n",
      "30           3  317063  295522.43  4098679.99     16.00     16.75     17.18   \n",
      "31           4  317064  295525.88  4098682.16     16.14     16.47     16.03   \n",
      "\n",
      "    zmax2019  zmax2021  sampleid    ca2013    ca2017    ca2018    ca2019  \\\n",
      "27     16.87    17.497       686  50.56385  59.94765  61.18515  57.72135   \n",
      "28     18.84    19.962       686  66.43780  80.16885  96.50075  74.98060   \n",
      "29     19.79    20.354       686  84.32240  82.14070  63.16150  53.52925   \n",
      "30     16.96    17.598       686  28.15595  39.32420  44.74045  44.55820   \n",
      "31     16.16    17.421       686  24.20295  34.50130  46.32625  58.03655   \n",
      "\n",
      "       ca2021  live  certainty  \\\n",
      "27  57.720561     1        1.0   \n",
      "28  69.145435     1        1.0   \n",
      "29  68.915115     1        1.0   \n",
      "30  40.974150     1        1.0   \n",
      "31  53.797415     1        1.0   \n",
      "\n",
      "                                             geometry    image_path  split  \n",
      "27  POLYGON ((295511.250 4098685.280, 295511.310 4...  686_2021.tif  train  \n",
      "28  POLYGON ((295534.160 4098678.870, 295534.670 4...  686_2021.tif  train  \n",
      "29  POLYGON ((295527.070 4098683.380, 295526.020 4...  686_2021.tif  train  \n",
      "30  POLYGON ((295518.310 4098681.060, 295518.240 4...  686_2021.tif  train  \n",
      "31  POLYGON ((295523.320 4098679.620, 295523.120 4...  686_2021.tif  train  \n",
      "687_2017.tif\n"
     ]
    },
    {
     "name": "stderr",
     "output_type": "stream",
     "text": [
      "/orange/ewhite/b.weinstein/miniconda3/envs/MillionTrees/lib/python3.10/site-packages/deepforest/visualize.py:126: UserWarning: No color was provided and the label column is not numeric. Using a single default color.\n",
      "  warnings.warn(\"No color was provided and the label column is not numeric. \"\n"
     ]
    },
    {
     "name": "stdout",
     "output_type": "stream",
     "text": [
      "    Unnamed: 0  treeID   xlas2013    ylas2013  zmax2013  zmax2017  zmax2018  \\\n",
      "36           9  317659  295519.98  4099003.52     13.46     14.21     13.23   \n",
      "37          10  317667  295516.34  4098997.39     17.91     18.26     18.85   \n",
      "38          11  317668  295528.70  4098998.00     16.97     16.35     17.92   \n",
      "39          12  317671  295530.40  4098996.00     18.66     19.98     20.00   \n",
      "40          13  317674  295534.33  4098993.44     18.39     19.27     19.70   \n",
      "\n",
      "    zmax2019  zmax2021  sampleid    ca2013    ca2017    ca2018    ca2019  \\\n",
      "36     15.30    14.801       687  55.98995  70.10100  78.13790  77.22875   \n",
      "37     20.75    19.629       687  45.66830  56.55280  52.71140  48.56005   \n",
      "38     17.44    18.006       687  97.32385  48.85160  47.75750  52.56250   \n",
      "39     20.00    20.906       687  31.85545  51.85715  26.63915  27.98145   \n",
      "40     20.18    21.118       687  41.12815  36.27025  43.52670  45.94935   \n",
      "\n",
      "        ca2021  live  certainty  \\\n",
      "36   80.325492     1        1.0   \n",
      "37   44.381865     0        0.5   \n",
      "38  100.618877     1        1.0   \n",
      "39   28.311222     1        1.0   \n",
      "40   46.123246     1        1.0   \n",
      "\n",
      "                                             geometry    image_path  split  \n",
      "36  POLYGON ((295515.330 4099009.830, 295515.160 4...  687_2017.tif  train  \n",
      "37  POLYGON ((295511.220 4098996.720, 295511.090 4...  687_2017.tif  train  \n",
      "38  POLYGON ((295524.170 4099001.210, 295524.040 4...  687_2017.tif  train  \n",
      "39  POLYGON ((295525.060 4098997.220, 295525.020 4...  687_2017.tif  train  \n",
      "40  POLYGON ((295532.560 4098991.450, 295532.270 4...  687_2017.tif  train  \n",
      "687_2018.tif\n"
     ]
    },
    {
     "name": "stderr",
     "output_type": "stream",
     "text": [
      "/orange/ewhite/b.weinstein/miniconda3/envs/MillionTrees/lib/python3.10/site-packages/deepforest/visualize.py:126: UserWarning: No color was provided and the label column is not numeric. Using a single default color.\n",
      "  warnings.warn(\"No color was provided and the label column is not numeric. \"\n"
     ]
    },
    {
     "name": "stdout",
     "output_type": "stream",
     "text": [
      "    Unnamed: 0  treeID   xlas2013    ylas2013  zmax2013  zmax2017  zmax2018  \\\n",
      "45           9  317659  295519.98  4099003.52     13.46     14.21     13.23   \n",
      "46          10  317667  295516.34  4098997.39     17.91     18.26     18.85   \n",
      "47          11  317668  295528.70  4098998.00     16.97     16.35     17.92   \n",
      "48          12  317671  295530.40  4098996.00     18.66     19.98     20.00   \n",
      "49          13  317674  295534.33  4098993.44     18.39     19.27     19.70   \n",
      "\n",
      "    zmax2019  zmax2021  sampleid    ca2013    ca2017    ca2018    ca2019  \\\n",
      "45     15.30    14.801       687  55.98995  70.10100  78.13790  77.22875   \n",
      "46     20.75    19.629       687  45.66830  56.55280  52.71140  48.56005   \n",
      "47     17.44    18.006       687  97.32385  48.85160  47.75750  52.56250   \n",
      "48     20.00    20.906       687  31.85545  51.85715  26.63915  27.98145   \n",
      "49     20.18    21.118       687  41.12815  36.27025  43.52670  45.94935   \n",
      "\n",
      "        ca2021  live  certainty  \\\n",
      "45   80.325492     1        1.0   \n",
      "46   44.381865     0        0.5   \n",
      "47  100.618877     1        1.0   \n",
      "48   28.311222     1        1.0   \n",
      "49   46.123246     1        1.0   \n",
      "\n",
      "                                             geometry    image_path  split  \n",
      "45  POLYGON ((295515.330 4099009.830, 295515.160 4...  687_2018.tif  train  \n",
      "46  POLYGON ((295511.220 4098996.720, 295511.090 4...  687_2018.tif  train  \n",
      "47  POLYGON ((295524.170 4099001.210, 295524.040 4...  687_2018.tif  train  \n",
      "48  POLYGON ((295525.060 4098997.220, 295525.020 4...  687_2018.tif  train  \n",
      "49  POLYGON ((295532.560 4098991.450, 295532.270 4...  687_2018.tif  train  \n",
      "687_2019.tif\n"
     ]
    },
    {
     "name": "stderr",
     "output_type": "stream",
     "text": [
      "/orange/ewhite/b.weinstein/miniconda3/envs/MillionTrees/lib/python3.10/site-packages/deepforest/visualize.py:126: UserWarning: No color was provided and the label column is not numeric. Using a single default color.\n",
      "  warnings.warn(\"No color was provided and the label column is not numeric. \"\n"
     ]
    },
    {
     "name": "stdout",
     "output_type": "stream",
     "text": [
      "    Unnamed: 0  treeID   xlas2013    ylas2013  zmax2013  zmax2017  zmax2018  \\\n",
      "54           9  317659  295519.98  4099003.52     13.46     14.21     13.23   \n",
      "55          10  317667  295516.34  4098997.39     17.91     18.26     18.85   \n",
      "56          11  317668  295528.70  4098998.00     16.97     16.35     17.92   \n",
      "57          12  317671  295530.40  4098996.00     18.66     19.98     20.00   \n",
      "58          13  317674  295534.33  4098993.44     18.39     19.27     19.70   \n",
      "\n",
      "    zmax2019  zmax2021  sampleid    ca2013    ca2017    ca2018    ca2019  \\\n",
      "54     15.30    14.801       687  55.98995  70.10100  78.13790  77.22875   \n",
      "55     20.75    19.629       687  45.66830  56.55280  52.71140  48.56005   \n",
      "56     17.44    18.006       687  97.32385  48.85160  47.75750  52.56250   \n",
      "57     20.00    20.906       687  31.85545  51.85715  26.63915  27.98145   \n",
      "58     20.18    21.118       687  41.12815  36.27025  43.52670  45.94935   \n",
      "\n",
      "        ca2021  live  certainty  \\\n",
      "54   80.325492     1        1.0   \n",
      "55   44.381865     0        0.5   \n",
      "56  100.618877     1        1.0   \n",
      "57   28.311222     1        1.0   \n",
      "58   46.123246     1        1.0   \n",
      "\n",
      "                                             geometry    image_path  split  \n",
      "54  POLYGON ((295515.330 4099009.830, 295515.160 4...  687_2019.tif  train  \n",
      "55  POLYGON ((295511.220 4098996.720, 295511.090 4...  687_2019.tif  train  \n",
      "56  POLYGON ((295524.170 4099001.210, 295524.040 4...  687_2019.tif  train  \n",
      "57  POLYGON ((295525.060 4098997.220, 295525.020 4...  687_2019.tif  train  \n",
      "58  POLYGON ((295532.560 4098991.450, 295532.270 4...  687_2019.tif  train  \n",
      "687_2021.tif\n"
     ]
    },
    {
     "name": "stderr",
     "output_type": "stream",
     "text": [
      "/orange/ewhite/b.weinstein/miniconda3/envs/MillionTrees/lib/python3.10/site-packages/deepforest/visualize.py:126: UserWarning: No color was provided and the label column is not numeric. Using a single default color.\n",
      "  warnings.warn(\"No color was provided and the label column is not numeric. \"\n"
     ]
    },
    {
     "name": "stdout",
     "output_type": "stream",
     "text": [
      "    Unnamed: 0  treeID   xlas2013    ylas2013  zmax2013  zmax2017  zmax2018  \\\n",
      "63           9  317659  295519.98  4099003.52     13.46     14.21     13.23   \n",
      "64          10  317667  295516.34  4098997.39     17.91     18.26     18.85   \n",
      "65          11  317668  295528.70  4098998.00     16.97     16.35     17.92   \n",
      "66          12  317671  295530.40  4098996.00     18.66     19.98     20.00   \n",
      "67          13  317674  295534.33  4098993.44     18.39     19.27     19.70   \n",
      "\n",
      "    zmax2019  zmax2021  sampleid    ca2013    ca2017    ca2018    ca2019  \\\n",
      "63     15.30    14.801       687  55.98995  70.10100  78.13790  77.22875   \n",
      "64     20.75    19.629       687  45.66830  56.55280  52.71140  48.56005   \n",
      "65     17.44    18.006       687  97.32385  48.85160  47.75750  52.56250   \n",
      "66     20.00    20.906       687  31.85545  51.85715  26.63915  27.98145   \n",
      "67     20.18    21.118       687  41.12815  36.27025  43.52670  45.94935   \n",
      "\n",
      "        ca2021  live  certainty  \\\n",
      "63   80.325492     1        1.0   \n",
      "64   44.381865     0        0.5   \n",
      "65  100.618877     1        1.0   \n",
      "66   28.311222     1        1.0   \n",
      "67   46.123246     1        1.0   \n",
      "\n",
      "                                             geometry    image_path  split  \n",
      "63  POLYGON ((295515.330 4099009.830, 295515.160 4...  687_2021.tif  train  \n",
      "64  POLYGON ((295511.220 4098996.720, 295511.090 4...  687_2021.tif  train  \n",
      "65  POLYGON ((295524.170 4099001.210, 295524.040 4...  687_2021.tif  train  \n",
      "66  POLYGON ((295525.060 4098997.220, 295525.020 4...  687_2021.tif  train  \n",
      "67  POLYGON ((295532.560 4098991.450, 295532.270 4...  687_2021.tif  train  \n",
      "688_2017.tif\n"
     ]
    },
    {
     "name": "stderr",
     "output_type": "stream",
     "text": [
      "/orange/ewhite/b.weinstein/miniconda3/envs/MillionTrees/lib/python3.10/site-packages/deepforest/visualize.py:126: UserWarning: No color was provided and the label column is not numeric. Using a single default color.\n",
      "  warnings.warn(\"No color was provided and the label column is not numeric. \"\n"
     ]
    },
    {
     "name": "stdout",
     "output_type": "stream",
     "text": [
      "    Unnamed: 0  treeID   xlas2013    ylas2013  zmax2013  zmax2017  zmax2018  \\\n",
      "72          18  317993  295537.88  4099279.39      5.22      6.08      6.43   \n",
      "\n",
      "    zmax2019  zmax2021  sampleid    ca2013    ca2017    ca2018     ca2019  \\\n",
      "72      5.96     6.002       688  74.41725  20.88315  44.90715  131.60775   \n",
      "\n",
      "       ca2021  live  certainty  \\\n",
      "72  10.210946     1        1.0   \n",
      "\n",
      "                                             geometry    image_path  split  \n",
      "72  POLYGON ((295535.070 4099277.290, 295535.030 4...  688_2017.tif  train  \n",
      "688_2018.tif\n"
     ]
    },
    {
     "name": "stderr",
     "output_type": "stream",
     "text": [
      "/orange/ewhite/b.weinstein/miniconda3/envs/MillionTrees/lib/python3.10/site-packages/deepforest/visualize.py:126: UserWarning: No color was provided and the label column is not numeric. Using a single default color.\n",
      "  warnings.warn(\"No color was provided and the label column is not numeric. \"\n"
     ]
    },
    {
     "name": "stdout",
     "output_type": "stream",
     "text": [
      "    Unnamed: 0  treeID   xlas2013    ylas2013  zmax2013  zmax2017  zmax2018  \\\n",
      "73          18  317993  295537.88  4099279.39      5.22      6.08      6.43   \n",
      "\n",
      "    zmax2019  zmax2021  sampleid    ca2013    ca2017    ca2018     ca2019  \\\n",
      "73      5.96     6.002       688  74.41725  20.88315  44.90715  131.60775   \n",
      "\n",
      "       ca2021  live  certainty  \\\n",
      "73  10.210946     1        1.0   \n",
      "\n",
      "                                             geometry    image_path  split  \n",
      "73  POLYGON ((295535.070 4099277.290, 295535.030 4...  688_2018.tif  train  \n"
     ]
    },
    {
     "name": "stderr",
     "output_type": "stream",
     "text": [
      "/orange/ewhite/b.weinstein/miniconda3/envs/MillionTrees/lib/python3.10/site-packages/deepforest/visualize.py:126: UserWarning: No color was provided and the label column is not numeric. Using a single default color.\n",
      "  warnings.warn(\"No color was provided and the label column is not numeric. \"\n"
     ]
    }
   ],
   "source": [
    "from matplotlib import pyplot as plt\n",
    "import sys\n",
    "import pandas as pd\n",
    "import geopandas\n",
    "from deepforest import main\n",
    "from deepforest.utilities import read_file \n",
    "from deepforest.visualize import plot_prediction_dataframe\n",
    "import rasterio\n",
    "import numpy as np\n",
    "import os\n",
    "\n",
    "dataset = \"/blue/ewhite/DeepForest/HemmingSchroeder/annotations.csv\"\n",
    "root_dir = \"/blue/ewhite/DeepForest/HemmingSchroeder/data/training/images/\"\n",
    "annotations = read_file(dataset)\n",
    "annotations = annotations[annotations.geometry.geom_type==\"Polygon\"]\n",
    "print(annotations.head())\n",
    "m = main.deepforest()\n",
    "m.use_release()\n",
    "\n",
    "images = annotations.image_path.unique()\n",
    "for image in images[:10]:\n",
    "    print(image)\n",
    "    path = os.path.join(root_dir,image)\n",
    "    img = rasterio.open(path).read()\n",
    "    img = np.rollaxis(img, 0,3)\n",
    "    boxes = m.predict_image(path=path, return_plot=False)\n",
    "    if boxes is None:\n",
    "        continue\n",
    "    #boxes = boxes[boxes.score>0.3]\n",
    "    image_annotations = annotations[annotations.image_path==image]\n",
    "    print(image_annotations.head())\n",
    "    plot_prediction_dataframe(df=boxes, ground_truth=image_annotations, savedir=\"plots\", root_dir=root_dir, thickness=2, color=[0,0,100])"
   ]
  },
  {
   "cell_type": "markdown",
   "metadata": {},
   "source": [
    "annotations"
   ]
  },
  {
   "cell_type": "code",
   "execution_count": 2,
   "metadata": {},
   "outputs": [
    {
     "ename": "NameError",
     "evalue": "name 'boxes' is not defined",
     "output_type": "error",
     "traceback": [
      "\u001b[0;31m---------------------------------------------------------------------------\u001b[0m",
      "\u001b[0;31mNameError\u001b[0m                                 Traceback (most recent call last)",
      "Cell \u001b[0;32mIn[2], line 1\u001b[0m\n\u001b[0;32m----> 1\u001b[0m \u001b[43mboxes\u001b[49m\n",
      "\u001b[0;31mNameError\u001b[0m: name 'boxes' is not defined"
     ]
    }
   ],
   "source": [
    "\n"
   ]
  },
  {
   "cell_type": "code",
   "execution_count": 10,
   "metadata": {},
   "outputs": [
    {
     "data": {
      "text/plain": [
       "190    POLYGON ((2160.150 189.570, 2373.180 189.570, ...\n",
       "dtype: geometry"
      ]
     },
     "execution_count": 10,
     "metadata": {},
     "output_type": "execute_result"
    }
   ],
   "source": [
    "image_annotations.envelope"
   ]
  }
 ],
 "metadata": {
  "kernelspec": {
   "display_name": "DeepForest",
   "language": "python",
   "name": "python3"
  },
  "language_info": {
   "codemirror_mode": {
    "name": "ipython",
    "version": 3
   },
   "file_extension": ".py",
   "mimetype": "text/x-python",
   "name": "python",
   "nbconvert_exporter": "python",
   "pygments_lexer": "ipython3",
   "version": "3.10.13"
  }
 },
 "nbformat": 4,
 "nbformat_minor": 2
}
