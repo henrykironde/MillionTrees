{
 "cells": [
  {
   "cell_type": "code",
   "execution_count": 5,
   "metadata": {},
   "outputs": [
    {
     "name": "stdout",
     "output_type": "stream",
     "text": [
      "Reading config file: /orange/ewhite/b.weinstein/miniconda3/envs/MillionTrees/lib/python3.10/site-packages/deepforest/data/deepforest_config.yml\n",
      "No validation file provided. Turning off validation loop\n"
     ]
    },
    {
     "name": "stderr",
     "output_type": "stream",
     "text": [
      "/orange/ewhite/b.weinstein/miniconda3/envs/MillionTrees/lib/python3.10/site-packages/lightning_fabric/plugins/environments/slurm.py:191: The `srun` command is available on your system but is not used. HINT: If your intention is to run Lightning on SLURM, prepend your python command with `srun` like so: srun python /orange/ewhite/b.weinstein/miniconda3/envs/MillionTr ...\n",
      "GPU available: True (cuda), used: True\n",
      "TPU available: False, using: 0 TPU cores\n",
      "IPU available: False, using: 0 IPUs\n",
      "HPU available: False, using: 0 HPUs\n"
     ]
    },
    {
     "name": "stdout",
     "output_type": "stream",
     "text": [
      "Model from DeepForest release https://github.com/weecology/DeepForest/releases/tag/1.0.0 was already downloaded. Loading model from file.\n",
      "Loading pre-built model: https://github.com/weecology/DeepForest/releases/tag/1.0.0\n"
     ]
    },
    {
     "name": "stderr",
     "output_type": "stream",
     "text": [
      "/orange/ewhite/b.weinstein/miniconda3/envs/MillionTrees/lib/python3.10/site-packages/rasterio/__init__.py:304: NotGeoreferencedWarning: Dataset has no geotransform, gcps, or rpcs. The identity matrix will be returned.\n",
      "  dataset = DatasetReader(path, driver=driver, sharing=sharing, **kwargs)\n",
      "/orange/ewhite/b.weinstein/miniconda3/envs/MillionTrees/lib/python3.10/site-packages/deepforest/visualize.py:126: UserWarning: No color was provided and the label column is not numeric. Using a single default color.\n",
      "  warnings.warn(\"No color was provided and the label column is not numeric. \"\n",
      "/orange/ewhite/b.weinstein/miniconda3/envs/MillionTrees/lib/python3.10/site-packages/rasterio/__init__.py:304: NotGeoreferencedWarning: Dataset has no geotransform, gcps, or rpcs. The identity matrix will be returned.\n",
      "  dataset = DatasetReader(path, driver=driver, sharing=sharing, **kwargs)\n",
      "/orange/ewhite/b.weinstein/miniconda3/envs/MillionTrees/lib/python3.10/site-packages/rasterio/__init__.py:304: NotGeoreferencedWarning: Dataset has no geotransform, gcps, or rpcs. The identity matrix will be returned.\n",
      "  dataset = DatasetReader(path, driver=driver, sharing=sharing, **kwargs)\n",
      "/orange/ewhite/b.weinstein/miniconda3/envs/MillionTrees/lib/python3.10/site-packages/deepforest/visualize.py:126: UserWarning: No color was provided and the label column is not numeric. Using a single default color.\n",
      "  warnings.warn(\"No color was provided and the label column is not numeric. \"\n",
      "/orange/ewhite/b.weinstein/miniconda3/envs/MillionTrees/lib/python3.10/site-packages/rasterio/__init__.py:304: NotGeoreferencedWarning: Dataset has no geotransform, gcps, or rpcs. The identity matrix will be returned.\n",
      "  dataset = DatasetReader(path, driver=driver, sharing=sharing, **kwargs)\n",
      "/orange/ewhite/b.weinstein/miniconda3/envs/MillionTrees/lib/python3.10/site-packages/rasterio/__init__.py:304: NotGeoreferencedWarning: Dataset has no geotransform, gcps, or rpcs. The identity matrix will be returned.\n",
      "  dataset = DatasetReader(path, driver=driver, sharing=sharing, **kwargs)\n",
      "/orange/ewhite/b.weinstein/miniconda3/envs/MillionTrees/lib/python3.10/site-packages/rasterio/__init__.py:304: NotGeoreferencedWarning: Dataset has no geotransform, gcps, or rpcs. The identity matrix will be returned.\n",
      "  dataset = DatasetReader(path, driver=driver, sharing=sharing, **kwargs)\n",
      "/orange/ewhite/b.weinstein/miniconda3/envs/MillionTrees/lib/python3.10/site-packages/deepforest/visualize.py:126: UserWarning: No color was provided and the label column is not numeric. Using a single default color.\n",
      "  warnings.warn(\"No color was provided and the label column is not numeric. \"\n",
      "/orange/ewhite/b.weinstein/miniconda3/envs/MillionTrees/lib/python3.10/site-packages/rasterio/__init__.py:304: NotGeoreferencedWarning: Dataset has no geotransform, gcps, or rpcs. The identity matrix will be returned.\n",
      "  dataset = DatasetReader(path, driver=driver, sharing=sharing, **kwargs)\n",
      "/orange/ewhite/b.weinstein/miniconda3/envs/MillionTrees/lib/python3.10/site-packages/deepforest/visualize.py:126: UserWarning: No color was provided and the label column is not numeric. Using a single default color.\n",
      "  warnings.warn(\"No color was provided and the label column is not numeric. \"\n",
      "/orange/ewhite/b.weinstein/miniconda3/envs/MillionTrees/lib/python3.10/site-packages/rasterio/__init__.py:304: NotGeoreferencedWarning: Dataset has no geotransform, gcps, or rpcs. The identity matrix will be returned.\n",
      "  dataset = DatasetReader(path, driver=driver, sharing=sharing, **kwargs)\n",
      "/orange/ewhite/b.weinstein/miniconda3/envs/MillionTrees/lib/python3.10/site-packages/deepforest/visualize.py:126: UserWarning: No color was provided and the label column is not numeric. Using a single default color.\n",
      "  warnings.warn(\"No color was provided and the label column is not numeric. \"\n"
     ]
    }
   ],
   "source": [
    "from matplotlib import pyplot as plt\n",
    "import sys\n",
    "import pandas as pd\n",
    "import geopandas\n",
    "from deepforest import main\n",
    "from deepforest.utilities import read_file \n",
    "from deepforest.visualize import plot_prediction_dataframe\n",
    "import rasterio\n",
    "import numpy as np\n",
    "import os\n",
    "\n",
    "dataset = \"/blue/ewhite/DeepForest/MillionTrees/annotations/Siberia_test.csv\"\n",
    "root_dir = \"/blue/ewhite/DeepForest/MillionTrees/images/\"\n",
    "annotations = read_file(dataset)\n",
    "m = main.deepforest()\n",
    "m.use_release()\n",
    "images = annotations.image_path.unique()\n",
    "for image in images[:10]:\n",
    "    path = os.path.join(root_dir,image)\n",
    "    img = rasterio.open(path).read()\n",
    "    img = np.rollaxis(img, 0,3)\n",
    "    #boxes = m.predict_tile(raster_path=path, patch_size=500,return_plot=False)\n",
    "    boxes = m.predict_image(path=path, return_plot=False)\n",
    "    boxes = boxes[boxes.score>0.3]\n",
    "    image_annotations = annotations[annotations.image_path==image]\n",
    "    plot_prediction_dataframe(boxes, ground_truth=image_annotations, savedir=\"plots\", root_dir=root_dir, thickness=2, color=[0,0,100])"
   ]
  }
 ],
 "metadata": {
  "kernelspec": {
   "display_name": "DeepForest",
   "language": "python",
   "name": "python3"
  },
  "language_info": {
   "codemirror_mode": {
    "name": "ipython",
    "version": 3
   },
   "file_extension": ".py",
   "mimetype": "text/x-python",
   "name": "python",
   "nbconvert_exporter": "python",
   "pygments_lexer": "ipython3",
   "version": "3.10.13"
  }
 },
 "nbformat": 4,
 "nbformat_minor": 2
}
